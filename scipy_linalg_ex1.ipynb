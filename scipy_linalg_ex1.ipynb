{
 "cells": [
  {
   "cell_type": "code",
   "execution_count": null,
   "id": "87a532b3",
   "metadata": {},
   "outputs": [],
   "source": [
    "###1.1.SCIPY###"
   ]
  },
  {
   "cell_type": "code",
   "execution_count": 80,
   "id": "30ae51ec",
   "metadata": {},
   "outputs": [],
   "source": [
    "import numpy as np\n",
    "from scipy import linalg\n",
    "from scipy.linalg import solveh_banded\n",
    "from scipy.linalg import eig\n",
    "from scipy.linalg import inv\n",
    "from scipy.linalg import norm"
   ]
  },
  {
   "cell_type": "code",
   "execution_count": 63,
   "id": "307d8e56",
   "metadata": {},
   "outputs": [
    {
     "name": "stdout",
     "output_type": "stream",
     "text": [
      "[[1 2 3]\n",
      " [4 5 6]\n",
      " [7 8 9]]\n"
     ]
    }
   ],
   "source": [
    "# a. Define a matrix a\n",
    "\n",
    "A = np.array([[1, 2, 3],\n",
    " [4, 5, 6],\n",
    " [7, 8, 9]])\n",
    "ab=np.array(A)\n",
    "\n",
    "print(ab)\n"
   ]
  },
  {
   "cell_type": "code",
   "execution_count": 64,
   "id": "7b97dcef",
   "metadata": {},
   "outputs": [],
   "source": [
    "# b. Define a vector b"
   ]
  },
  {
   "cell_type": "code",
   "execution_count": 65,
   "id": "5811a959",
   "metadata": {},
   "outputs": [
    {
     "name": "stdout",
     "output_type": "stream",
     "text": [
      "[1 2 3]\n"
     ]
    }
   ],
   "source": [
    "b = np.array([1, 2, 3])\n",
    "print(b)"
   ]
  },
  {
   "cell_type": "code",
   "execution_count": 66,
   "id": "f8f1bb74",
   "metadata": {},
   "outputs": [
    {
     "data": {
      "text/plain": [
       "array([ 1.08771214e-16, -2.11027179e-16,  3.33333333e-01])"
      ]
     },
     "execution_count": 66,
     "metadata": {},
     "output_type": "execute_result"
    }
   ],
   "source": [
    "#  c. Solve the linear system of equations A x = b\n",
    "x=solveh_banded(ab, b)\n",
    "x"
   ]
  },
  {
   "cell_type": "code",
   "execution_count": 67,
   "id": "d0fd64a6",
   "metadata": {},
   "outputs": [],
   "source": [
    "# d. Check that your solution is correct by plugging it into the equation"
   ]
  },
  {
   "cell_type": "code",
   "execution_count": 68,
   "id": "1f90e7cc",
   "metadata": {},
   "outputs": [
    {
     "name": "stdout",
     "output_type": "stream",
     "text": [
      "[1.18311769e-32 4.45324705e-32 1.11111111e-01]\n"
     ]
    }
   ],
   "source": [
    "check=x**2\n",
    "print(check)\n"
   ]
  },
  {
   "cell_type": "code",
   "execution_count": 69,
   "id": "409d34c0",
   "metadata": {},
   "outputs": [],
   "source": [
    "# e. Repeat steps a-d using a random 3x3 matrix B (instead of the vector b)"
   ]
  },
  {
   "cell_type": "code",
   "execution_count": 70,
   "id": "f61f2a23",
   "metadata": {},
   "outputs": [
    {
     "name": "stdout",
     "output_type": "stream",
     "text": [
      "[[0.29370093 0.40121352 0.22380356]\n",
      " [0.48898412 0.44905118 0.62291327]\n",
      " [0.04060889 0.55640248 0.98687822]]\n"
     ]
    }
   ],
   "source": [
    "B = np.random.random((3,3))\n",
    "print(B)"
   ]
  },
  {
   "cell_type": "code",
   "execution_count": 71,
   "id": "d945c22f",
   "metadata": {},
   "outputs": [
    {
     "name": "stdout",
     "output_type": "stream",
     "text": [
      "[[0.29370093 0.40121352 0.22380356]\n",
      " [0.48898412 0.44905118 0.62291327]\n",
      " [0.04060889 0.55640248 0.98687822]]\n"
     ]
    }
   ],
   "source": [
    "b=np.array(B)\n",
    "print(b)"
   ]
  },
  {
   "cell_type": "code",
   "execution_count": 72,
   "id": "ead0964a",
   "metadata": {},
   "outputs": [
    {
     "data": {
      "text/plain": [
       "array([[-0.01767174,  0.04190903, -0.02104045],\n",
       "       [ 0.12873168, -0.01190273,  0.00702895],\n",
       "       [-0.07541844,  0.05578797,  0.11198065]])"
      ]
     },
     "execution_count": 72,
     "metadata": {},
     "output_type": "execute_result"
    }
   ],
   "source": [
    "x=solveh_banded(ab, b)\n",
    "x"
   ]
  },
  {
   "cell_type": "code",
   "execution_count": 73,
   "id": "dd174bf8",
   "metadata": {},
   "outputs": [
    {
     "name": "stdout",
     "output_type": "stream",
     "text": [
      "[[3.12290279e-04 1.75636708e-03 4.42700533e-04]\n",
      " [1.65718463e-02 1.41674883e-04 4.94061701e-05]\n",
      " [5.68794174e-03 3.11229767e-03 1.25396661e-02]]\n"
     ]
    }
   ],
   "source": [
    "check2 = x**2\n",
    "print(check2)"
   ]
  },
  {
   "cell_type": "code",
   "execution_count": 74,
   "id": "7cb16b1c",
   "metadata": {},
   "outputs": [],
   "source": [
    "# f. Solve the eigenvalue problem for the matrix A and print the eigenvalues and eigenvectors"
   ]
  },
  {
   "cell_type": "code",
   "execution_count": 75,
   "id": "8915fa58",
   "metadata": {},
   "outputs": [
    {
     "data": {
      "text/plain": [
       "(array([ 1.61168440e+01+0.j, -1.11684397e+00+0.j, -4.22209278e-16+0.j]),\n",
       " array([[-0.23197069, -0.78583024,  0.40824829],\n",
       "        [-0.52532209, -0.08675134, -0.81649658],\n",
       "        [-0.8186735 ,  0.61232756,  0.40824829]]))"
      ]
     },
     "execution_count": 75,
     "metadata": {},
     "output_type": "execute_result"
    }
   ],
   "source": [
    "eig(A, b=None, left=False, right=True, overwrite_a=False, overwrite_b=False, check_finite=True, homogeneous_eigvals=False)\n"
   ]
  },
  {
   "cell_type": "code",
   "execution_count": 78,
   "id": "4e0c0cb5",
   "metadata": {},
   "outputs": [
    {
     "data": {
      "text/plain": [
       "array([[-4.50359963e+15,  9.00719925e+15, -4.50359963e+15],\n",
       "       [ 9.00719925e+15, -1.80143985e+16,  9.00719925e+15],\n",
       "       [-4.50359963e+15,  9.00719925e+15, -4.50359963e+15]])"
      ]
     },
     "execution_count": 78,
     "metadata": {},
     "output_type": "execute_result"
    }
   ],
   "source": [
    "# g. Calculate the inverse, determinant of A\n",
    "inv(A, overwrite_a=False, check_finite=True)\n",
    "\n"
   ]
  },
  {
   "cell_type": "code",
   "execution_count": 150,
   "id": "95849730",
   "metadata": {},
   "outputs": [],
   "source": [
    "# h. Calculate the norm of A with different orders\n"
   ]
  },
  {
   "cell_type": "code",
   "execution_count": 87,
   "id": "2a4a8903",
   "metadata": {},
   "outputs": [
    {
     "data": {
      "text/plain": [
       "18.0"
      ]
     },
     "execution_count": 87,
     "metadata": {},
     "output_type": "execute_result"
    }
   ],
   "source": [
    "# h. order 1\n",
    "norm(A, ord=1, axis=None, keepdims=False, check_finite=True)"
   ]
  },
  {
   "cell_type": "code",
   "execution_count": 88,
   "id": "002c6e68",
   "metadata": {},
   "outputs": [
    {
     "data": {
      "text/plain": [
       "16.84810335261421"
      ]
     },
     "execution_count": 88,
     "metadata": {},
     "output_type": "execute_result"
    }
   ],
   "source": [
    "# h. order 2\n",
    "norm(A, ord=2, axis=None, keepdims=False, check_finite=True)"
   ]
  },
  {
   "cell_type": "code",
   "execution_count": null,
   "id": "2e9c7654",
   "metadata": {},
   "outputs": [],
   "source": [
    "###1.2.Statistics###"
   ]
  },
  {
   "cell_type": "code",
   "execution_count": 151,
   "id": "2027b6ee",
   "metadata": {},
   "outputs": [],
   "source": [
    "from scipy.stats import poisson\n",
    "from scipy.stats import norm\n",
    "from scipy.stats import ttest_ind\n",
    "\n",
    "import matplotlib.pyplot as plt"
   ]
  },
  {
   "cell_type": "code",
   "execution_count": 152,
   "id": "bf4d05cc",
   "metadata": {},
   "outputs": [],
   "source": [
    "# a. Create a discrete random variable with poissonian distribution and plot its probability mass function (PMF), cummulative distribution function (CDF) and a histogram of 1000 random realizations of the variable"
   ]
  },
  {
   "cell_type": "code",
   "execution_count": 158,
   "id": "1fd6b6e3",
   "metadata": {},
   "outputs": [
    {
     "data": {
      "image/png": "[encoded data removed]",
      "text/plain": [
       "<Figure size 640x480 with 1 Axes>"
      ]
     },
     "metadata": {},
     "output_type": "display_data"
    }
   ],
   "source": [
    "fig = plt.figure()\n",
    "ax = fig.add_subplot(111)\n",
    "#Calculate the first four moments:\n",
    "mu = 0.6\n",
    "\n",
    "mean, var, skew, kurt = poisson.stats(mu, moments='mvsk')\n",
    "#Display the probability mass function (pmf):\n",
    "x = np.arange(poisson.ppf(0.01, mu),\n",
    "\n",
    "              poisson.ppf(0.99, mu))\n",
    "\n",
    "ax.plot(x, poisson.pmf(x, mu), 'bo', ms=8, label='poisson pmf')\n",
    "\n",
    "ax.vlines(x, 0, poisson.pmf(x, mu), colors='b', lw=5, alpha=0.5)\n",
    "\n",
    "\n",
    "#Freeze the distribution and display the frozen pmf:\n",
    "rv = poisson(mu)\n",
    "ax.vlines(x, 0, rv.pmf(x), colors='k', linestyles='-', lw=1,\n",
    "\n",
    "        label='frozen pmf')\n",
    "\n",
    "ax.legend(loc='best', frameon=False)\n",
    "\n",
    "\n",
    "#Check accuracy of cdf and ppf:\n",
    "prob = poisson.cdf(x, mu)\n",
    "\n",
    "np.allclose(x, poisson.ppf(prob, mu))\n",
    "\n",
    "\n",
    "\n",
    "#Generate random numbers:\n",
    "r1 = poisson.rvs(mu, size=1000)\n",
    "ax.hist(r1, density=True, edgecolor='black')\n",
    "\n",
    "plt.show()"
   ]
  },
  {
   "cell_type": "code",
   "execution_count": 154,
   "id": "bf9e2b61",
   "metadata": {},
   "outputs": [],
   "source": [
    "# b. Create a continious random variable with normal distribution and plot its probability mass function (PMF), cummulative distribution function (CDF) and a histogram of 1000 random realizations of the variable"
   ]
  },
  {
   "cell_type": "code",
   "execution_count": 157,
   "id": "ccaa33bb",
   "metadata": {},
   "outputs": [
    {
     "data": {
      "image/png": "[encoded data removed]",
      "text/plain": [
       "<Figure size 640x480 with 1 Axes>"
      ]
     },
     "metadata": {},
     "output_type": "display_data"
    }
   ],
   "source": [
    "fig = plt.figure()\n",
    "ax = fig.add_subplot(111)\n",
    "\n",
    "#Calculate the first four moments:\n",
    "mean, var, skew, kurt = norm.stats(moments='mvsk')\n",
    "\n",
    "#Display the probability density function (pdf):\n",
    "x = np.linspace(norm.ppf(0.01),\n",
    "\n",
    "                norm.ppf(0.99), 100)\n",
    "\n",
    "ax.plot(x, norm.pdf(x),\n",
    "\n",
    "       'r-', lw=5, alpha=0.6, label='norm pdf')\n",
    "\n",
    "#Freeze the distribution and display the frozen pdf:\n",
    "rv = norm()\n",
    "\n",
    "ax.plot(x, rv.pdf(x), 'k-', lw=2, label='frozen pdf')\n",
    "\n",
    "#Check accuracy of cdf and ppf:\n",
    "vals = norm.ppf([0.001, 0.5, 0.999])\n",
    "\n",
    "np.allclose([0.001, 0.5, 0.999], norm.cdf(vals))\n",
    "\n",
    "#Generate random numbers:\n",
    "r2 = norm.rvs(size=1000)\n",
    "\n",
    "\n",
    "\n",
    "#And compare the histogram:\n",
    "ax.hist(r2, density=True, bins='auto', histtype='stepfilled', alpha=0.2)\n",
    "\n",
    "ax.set_xlim([x[0], x[-1]])\n",
    "\n",
    "ax.legend(loc='best', frameon=False)\n",
    "\n",
    "plt.show()"
   ]
  },
  {
   "cell_type": "code",
   "execution_count": 156,
   "id": "50c5c24d",
   "metadata": {},
   "outputs": [],
   "source": [
    "# c. Test if two sets of (independent) random data comes from the same distribution"
   ]
  },
  {
   "cell_type": "code",
   "execution_count": 160,
   "id": "2ae7800f",
   "metadata": {},
   "outputs": [
    {
     "data": {
      "text/plain": [
       "Ttest_indResult(statistic=14.805577074295737, pvalue=3.863058732479667e-47)"
      ]
     },
     "execution_count": 160,
     "metadata": {},
     "output_type": "execute_result"
    }
   ],
   "source": [
    "ttest_ind(r1,r2, axis=0, equal_var=True, nan_policy='propagate', permutations=None, random_state=None, alternative='two-sided', trim=0)"
   ]
  }
 ],
 "metadata": {
  "kernelspec": {
   "display_name": "Python 3 (ipykernel)",
   "language": "python",
   "name": "python3"
  },
  "language_info": {
   "codemirror_mode": {
    "name": "ipython",
    "version": 3
   },
   "file_extension": ".py",
   "mimetype": "text/x-python",
   "name": "python",
   "nbconvert_exporter": "python",
   "pygments_lexer": "ipython3",
   "version": "3.9.16"
  }
 },
 "nbformat": 4,
 "nbformat_minor": 5
}
